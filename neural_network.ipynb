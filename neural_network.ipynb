{
 "cells": [
  {
   "cell_type": "markdown",
   "metadata": {},
   "source": [
    "# Neural Network 101 avec pytorch"
   ]
  },
  {
   "cell_type": "code",
   "execution_count": 21,
   "metadata": {},
   "outputs": [],
   "source": [
    "import numpy as np"
   ]
  },
  {
   "cell_type": "markdown",
   "metadata": {},
   "source": [
    "## Qu'est-ce qu'un neural network\n",
    "\n",
    "**Architecture:**\n",
    "\n",
    "![](./content/nn_architecture.drawio.png)\n",
    "\n",
    "\n",
    "**Classification:**\n",
    "\n",
    "![](./content/nn_classification.drawio.png)\n",
    "\n",
    "**Regression:**\n",
    "\n",
    "![](./content/nn_regression.drawio.png)\n"
   ]
  },
  {
   "cell_type": "markdown",
   "metadata": {},
   "source": [
    "## Comment ça marche\n",
    "\n",
    "![](./content/nn_matrix_values.drawio.png)\n",
    "\n",
    "**Forward pass, calculer les logits:**"
   ]
  },
  {
   "cell_type": "code",
   "execution_count": 22,
   "metadata": {},
   "outputs": [
    {
     "name": "stdout",
     "output_type": "stream",
     "text": [
      "H: [[ 0.388 -0.013]]\n",
      "H_activated: [[0.59580115 0.49675005]]\n",
      "Y: [[-0.3366949   0.36630562  0.39537418]]\n"
     ]
    }
   ],
   "source": [
    "def sigmoid(z):\n",
    "    return 1/(1 + np.exp(-z))\n",
    "\n",
    "X = np.array([\n",
    "    [0.3, 0.4, 0.2]\n",
    "])\n",
    "\n",
    "W_1 = np.array([\n",
    "    [0.24, 0.31],\n",
    "    [0.72, -0.04],\n",
    "    [0.14, -0.45]\n",
    "])\n",
    "\n",
    "H = np.dot(X, W_1)\n",
    "H_activated = sigmoid(H)\n",
    "\n",
    "W_2 = np.array([\n",
    "    [-0.34, 0.99, 0.13],\n",
    "    [-0.27, -0.45, 0.64]\n",
    "])\n",
    "\n",
    "Y = np.dot(H_activated, W_2)\n",
    "\n",
    "print(f'H: {H}')\n",
    "print(f'H_activated: {H_activated}')\n",
    "print(f'Y: {Y}')\n"
   ]
  },
  {
   "cell_type": "markdown",
   "metadata": {},
   "source": [
    "**Identifier la classe choisie:**"
   ]
  },
  {
   "cell_type": "code",
   "execution_count": null,
   "metadata": {},
   "outputs": [],
   "source": []
  }
 ],
 "metadata": {
  "kernelspec": {
   "display_name": "Python 3",
   "language": "python",
   "name": "python3"
  },
  "language_info": {
   "codemirror_mode": {
    "name": "ipython",
    "version": 3
   },
   "file_extension": ".py",
   "mimetype": "text/x-python",
   "name": "python",
   "nbconvert_exporter": "python",
   "pygments_lexer": "ipython3",
   "version": "3.10.6"
  }
 },
 "nbformat": 4,
 "nbformat_minor": 2
}
