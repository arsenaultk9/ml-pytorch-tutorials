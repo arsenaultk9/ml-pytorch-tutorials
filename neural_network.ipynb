{
 "cells": [
  {
   "cell_type": "markdown",
   "metadata": {},
   "source": [
    "# Neural Network 101 avec pytorch"
   ]
  },
  {
   "cell_type": "code",
   "execution_count": 3,
   "metadata": {},
   "outputs": [],
   "source": [
    "import numpy as np"
   ]
  },
  {
   "cell_type": "markdown",
   "metadata": {},
   "source": [
    "## Qu'est-ce qu'un neural network\n",
    "\n",
    "**Architecture:**\n",
    "\n",
    "![](./content/nn_architecture.drawio.png)\n",
    "\n",
    "\n",
    "**Classification:**\n",
    "\n",
    "![](./content/nn_classification.drawio.png)\n",
    "\n",
    "**Regression:**\n",
    "\n",
    "![](./content/nn_regression.drawio.png)\n"
   ]
  },
  {
   "cell_type": "markdown",
   "metadata": {},
   "source": [
    "## Comment ça marche\n",
    "\n",
    "![](./content/nn_matrix_values.drawio.png)"
   ]
  }
 ],
 "metadata": {
  "kernelspec": {
   "display_name": "Python 3",
   "language": "python",
   "name": "python3"
  },
  "language_info": {
   "codemirror_mode": {
    "name": "ipython",
    "version": 3
   },
   "file_extension": ".py",
   "mimetype": "text/x-python",
   "name": "python",
   "nbconvert_exporter": "python",
   "pygments_lexer": "ipython3",
   "version": "3.10.6"
  }
 },
 "nbformat": 4,
 "nbformat_minor": 2
}
