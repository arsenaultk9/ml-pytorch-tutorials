{
 "cells": [
  {
   "cell_type": "markdown",
   "metadata": {},
   "source": [
    "# Neural Network 101 avec pytorch"
   ]
  },
  {
   "cell_type": "code",
   "execution_count": 38,
   "metadata": {},
   "outputs": [],
   "source": [
    "import numpy as np\n",
    "import matplotlib.pyplot as plt\n"
   ]
  },
  {
   "cell_type": "markdown",
   "metadata": {},
   "source": [
    "## Qu'est-ce qu'un neural network\n",
    "\n",
    "**Architecture:**\n",
    "\n",
    "![](./content/nn_architecture.drawio.png)\n",
    "\n",
    "\n",
    "**Classification:**\n",
    "\n",
    "![](./content/nn_classification.drawio.png)\n",
    "\n",
    "**Regression:**\n",
    "\n",
    "![](./content/nn_regression.drawio.png)\n"
   ]
  },
  {
   "cell_type": "markdown",
   "metadata": {},
   "source": [
    "## Comment ça marche\n",
    "\n",
    "![](./content/nn_matrix_values.drawio.png)\n",
    "\n",
    "**Forward pass, calculer les logits:**"
   ]
  },
  {
   "cell_type": "code",
   "execution_count": 39,
   "metadata": {},
   "outputs": [
    {
     "name": "stdout",
     "output_type": "stream",
     "text": [
      "H: [[ 0.388 -0.013]]\n",
      "H_activated: [[0.59580115 0.49675005]]\n",
      "Y: [[-0.3366949   0.36630562  0.39537418]]\n"
     ]
    }
   ],
   "source": [
    "def sigmoid(matrix):\n",
    "    return 1/(1 + np.exp(-matrix))\n",
    "\n",
    "X = np.array([\n",
    "    [0.3, 0.4, 0.2]\n",
    "])\n",
    "\n",
    "W_1 = np.array([\n",
    "    [0.24, 0.31],\n",
    "    [0.72, -0.04],\n",
    "    [0.14, -0.45]\n",
    "])\n",
    "\n",
    "H = np.dot(X, W_1)\n",
    "H_activated = sigmoid(H)\n",
    "\n",
    "W_2 = np.array([\n",
    "    [-0.34, 0.99, 0.13],\n",
    "    [-0.27, -0.45, 0.64]\n",
    "])\n",
    "\n",
    "Y = np.dot(H_activated, W_2)\n",
    "\n",
    "print(f'H: {H}')\n",
    "print(f'H_activated: {H_activated}')\n",
    "print(f'Y: {Y}')\n"
   ]
  },
  {
   "cell_type": "markdown",
   "metadata": {},
   "source": [
    "**Identifier la classe choisie:**"
   ]
  },
  {
   "cell_type": "code",
   "execution_count": 40,
   "metadata": {},
   "outputs": [
    {
     "data": {
      "text/plain": [
       "([<matplotlib.patches.Wedge at 0x20dad7220b0>,\n",
       "  <matplotlib.patches.Wedge at 0x20dad722740>,\n",
       "  <matplotlib.patches.Wedge at 0x20dad722dd0>],\n",
       " [Text(0.8977538451983288, 0.6356398614243881, '0'),\n",
       "  Text(-0.8656069664853716, 0.6787669552740417, '1'),\n",
       "  Text(0.314227862911688, -1.0541635784687087, '2')],\n",
       " [Text(0.4896839155627247, 0.3467126516860299, '19.6%'),\n",
       "  Text(-0.4721492544465663, 0.3702365210585682, '39.6%'),\n",
       "  Text(0.171397016133648, -0.5749983155283865, '40.8%')])"
      ]
     },
     "execution_count": 40,
     "metadata": {},
     "output_type": "execute_result"
    },
    {
     "data": {
      "image/png": "[encoded data removed]",
      "text/plain": [
       "<Figure size 640x480 with 1 Axes>"
      ]
     },
     "metadata": {},
     "output_type": "display_data"
    }
   ],
   "source": [
    "def softmax(matrix):\n",
    "    return np.exp(matrix)/sum(np.exp(matrix))\n",
    "\n",
    "probabilities = softmax(Y[0])\n",
    "\n",
    "labels = '0', '1', '2'\n",
    "sizes = [15, 30, 45, 10]\n",
    "\n",
    "fig, ax = plt.subplots()\n",
    "ax.pie(probabilities, labels=labels, autopct='%1.1f%%')"
   ]
  }
 ],
 "metadata": {
  "kernelspec": {
   "display_name": "Python 3",
   "language": "python",
   "name": "python3"
  },
  "language_info": {
   "codemirror_mode": {
    "name": "ipython",
    "version": 3
   },
   "file_extension": ".py",
   "mimetype": "text/x-python",
   "name": "python",
   "nbconvert_exporter": "python",
   "pygments_lexer": "ipython3",
   "version": "3.10.6"
  }
 },
 "nbformat": 4,
 "nbformat_minor": 2
}
