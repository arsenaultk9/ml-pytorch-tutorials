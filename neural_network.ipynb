{
 "cells": [
  {
   "cell_type": "markdown",
   "metadata": {},
   "source": [
    "# Neural Network 101 avec pytorch"
   ]
  },
  {
   "cell_type": "markdown",
   "metadata": {},
   "source": [
    "## Qu'est-ce qu'un neural network\n",
    "\n",
    "**Architecture:**\n",
    "\n",
    "<center><img src=\"./content/nn_architecture.drawio.png\"/></center>\n",
    "\n",
    "**Classification:**\n",
    "\n",
    "<center><img src=\"./content/nn_classification.drawio.png\"/></center>\n",
    "\n",
    "\n",
    "**Regression:**\n",
    "\n",
    "<center><img src=\"./content/nn_regression.drawio.png\"/></center>\n"
   ]
  }
 ],
 "metadata": {
  "language_info": {
   "name": "python"
  }
 },
 "nbformat": 4,
 "nbformat_minor": 2
}
